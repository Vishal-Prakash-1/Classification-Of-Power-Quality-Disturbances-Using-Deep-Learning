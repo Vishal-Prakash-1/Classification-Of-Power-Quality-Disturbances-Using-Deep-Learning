{
 "cells": [
  {
   "cell_type": "code",
   "execution_count": 1,
   "id": "f96d7ad6",
   "metadata": {},
   "outputs": [],
   "source": [
    "from tensorflow.compat.v1 import ConfigProto\n",
    "from tensorflow.compat.v1 import InteractiveSession\n",
    "\n",
    "config = ConfigProto()\n",
    "config.gpu_options.per_process_gpu_memory_fraction = 0.5\n",
    "config.gpu_options.allow_growth = True\n",
    "session = InteractiveSession(config=config)"
   ]
  },
  {
   "cell_type": "code",
   "execution_count": 2,
   "id": "cec21174",
   "metadata": {},
   "outputs": [],
   "source": [
    "# Convolutional Neural Network\n",
    "\n",
    "# Importing the libraries\n",
    "import tensorflow as tf\n",
    "from tensorflow.keras.preprocessing.image import ImageDataGenerator"
   ]
  },
  {
   "cell_type": "code",
   "execution_count": 3,
   "id": "39ac0219",
   "metadata": {},
   "outputs": [],
   "source": [
    "from tensorflow.keras.models import Sequential\n",
    "from tensorflow.keras.layers import Conv2D,MaxPooling2D,Flatten,Dense,Dropout,Conv1D,MaxPooling1D,BatchNormalization\n",
    "from tensorflow.keras.optimizers import SGD\n",
    "from tensorflow.keras.datasets import mnist\n",
    "from tensorflow.keras.utils import to_categorical\n",
    "from sklearn.model_selection import train_test_split\n",
    "from sklearn.svm import SVC  \n",
    "import matplotlib.pyplot as plt"
   ]
  },
  {
   "cell_type": "code",
   "execution_count": 4,
   "id": "5eb6cb7e",
   "metadata": {},
   "outputs": [
    {
     "data": {
      "text/plain": [
       "'2.10.0'"
      ]
     },
     "execution_count": 4,
     "metadata": {},
     "output_type": "execute_result"
    }
   ],
   "source": [
    "tf.__version__"
   ]
  },
  {
   "cell_type": "code",
   "execution_count": 5,
   "id": "137780c8",
   "metadata": {},
   "outputs": [],
   "source": [
    "# re-size all the images to this\n",
    "IMAGE_SIZE = [224, 224]\n",
    "\n",
    "train_path = 'Datasets/train'\n",
    "valid_path = 'Datasets/val'"
   ]
  },
  {
   "cell_type": "code",
   "execution_count": 6,
   "id": "3c5464a6",
   "metadata": {},
   "outputs": [],
   "source": [
    "from glob import glob"
   ]
  },
  {
   "cell_type": "code",
   "execution_count": 7,
   "id": "bd32d49c",
   "metadata": {},
   "outputs": [],
   "source": [
    "folders = glob('Dataset/*')"
   ]
  },
  {
   "cell_type": "code",
   "execution_count": 8,
   "id": "98edbdbe",
   "metadata": {},
   "outputs": [],
   "source": [
    "# Use the Image Data Generator to import the images from the dataset\n",
    "from tensorflow.keras.preprocessing.image import ImageDataGenerator\n",
    "\n",
    "train_datagen = ImageDataGenerator(rescale = 1./255,\n",
    "                                   shear_range = 0.2,\n",
    "                                   zoom_range = 0.2,\n",
    "                                   horizontal_flip = True)\n",
    "\n",
    "test_datagen = ImageDataGenerator(rescale = 1./255)"
   ]
  },
  {
   "cell_type": "code",
   "execution_count": 9,
   "id": "8095dfec",
   "metadata": {},
   "outputs": [
    {
     "name": "stdout",
     "output_type": "stream",
     "text": [
      "Found 1396 images belonging to 9 classes.\n"
     ]
    }
   ],
   "source": [
    "# Make sure you provide the same target size as initialied for the image size\n",
    "training_set = train_datagen.flow_from_directory('Dataset/train',\n",
    "                                                 target_size = (224, 224),\n",
    "                                                 batch_size = 32,\n",
    "                                                 shuffle=False,\n",
    "                                                 class_mode = 'categorical')"
   ]
  },
  {
   "cell_type": "code",
   "execution_count": 10,
   "id": "d321ec6f",
   "metadata": {},
   "outputs": [
    {
     "name": "stdout",
     "output_type": "stream",
     "text": [
      "Found 349 images belonging to 9 classes.\n"
     ]
    }
   ],
   "source": [
    "test_set = test_datagen.flow_from_directory('Dataset/val',\n",
    "                                            target_size = (224, 224),\n",
    "                                            batch_size = 32,\n",
    "                                            shuffle=False,\n",
    "                                            class_mode = 'categorical')"
   ]
  },
  {
   "cell_type": "code",
   "execution_count": 11,
   "id": "10e17c49",
   "metadata": {},
   "outputs": [],
   "source": [
    "model = Sequential()\n",
    "\n",
    "model.add(Conv2D(filters=32,padding=\"same\",kernel_size=3, activation='LeakyReLU', strides=2, input_shape=[224, 224, 3]))\n",
    "model.add(MaxPooling2D(pool_size=(3,3)))\n",
    "\n",
    "model.add(Conv2D(64,kernel_size = (1,1),strides = (1,1),activation='LeakyReLU'))\n",
    "model.add(Conv2D(192,kernel_size = (3,3),strides = (1,1),activation='LeakyReLU'))\n",
    "model.add(MaxPooling2D(pool_size=(3,3)))\n",
    "\n",
    "model.add(Flatten())\n",
    "\n",
    "model.add(Dense(4096,activation = 'LeakyReLU'))\n",
    "model.add(Dropout(0.5))\n",
    "model.add(Dense(4096,activation = 'LeakyReLU'))\n",
    "model.add(Dropout(0.5))\n",
    "\n",
    "model.add(Dense(9,activation = 'Softmax'))\n",
    "\n",
    "\n",
    "opt = SGD(learning_rate=0.01, momentum=0.9) #stochastic Gradient Descent\n",
    "model.compile(optimizer=opt, loss='categorical_crossentropy', metrics=['accuracy'])\n",
    "\n"
   ]
  },
  {
   "cell_type": "code",
   "execution_count": 12,
   "id": "9b9fa444",
   "metadata": {},
   "outputs": [
    {
     "name": "stdout",
     "output_type": "stream",
     "text": [
      "Model: \"sequential\"\n",
      "_________________________________________________________________\n",
      " Layer (type)                Output Shape              Param #   \n",
      "=================================================================\n",
      " conv2d (Conv2D)             (None, 112, 112, 32)      896       \n",
      "                                                                 \n",
      " max_pooling2d (MaxPooling2D  (None, 37, 37, 32)       0         \n",
      " )                                                               \n",
      "                                                                 \n",
      " conv2d_1 (Conv2D)           (None, 37, 37, 64)        2112      \n",
      "                                                                 \n",
      " conv2d_2 (Conv2D)           (None, 35, 35, 192)       110784    \n",
      "                                                                 \n",
      " max_pooling2d_1 (MaxPooling  (None, 11, 11, 192)      0         \n",
      " 2D)                                                             \n",
      "                                                                 \n",
      " flatten (Flatten)           (None, 23232)             0         \n",
      "                                                                 \n",
      " dense (Dense)               (None, 4096)              95162368  \n",
      "                                                                 \n",
      " dropout (Dropout)           (None, 4096)              0         \n",
      "                                                                 \n",
      " dense_1 (Dense)             (None, 4096)              16781312  \n",
      "                                                                 \n",
      " dropout_1 (Dropout)         (None, 4096)              0         \n",
      "                                                                 \n",
      " dense_2 (Dense)             (None, 9)                 36873     \n",
      "                                                                 \n",
      "=================================================================\n",
      "Total params: 112,094,345\n",
      "Trainable params: 112,094,345\n",
      "Non-trainable params: 0\n",
      "_________________________________________________________________\n"
     ]
    }
   ],
   "source": [
    "model.summary()"
   ]
  },
  {
   "cell_type": "code",
   "execution_count": null,
   "id": "09c8c728",
   "metadata": {},
   "outputs": [
    {
     "name": "stdout",
     "output_type": "stream",
     "text": [
      "Epoch 1/50\n",
      "44/44 [==============================] - 54s 1s/step - loss: 2.3421 - accuracy: 0.0301 - val_loss: 2.1617 - val_accuracy: 0.1375\n",
      "Epoch 2/50\n",
      "44/44 [==============================] - 54s 1s/step - loss: 2.3577 - accuracy: 0.1375 - val_loss: 2.1588 - val_accuracy: 0.1805\n",
      "Epoch 3/50\n",
      "44/44 [==============================] - 58s 1s/step - loss: 2.3688 - accuracy: 0.0501 - val_loss: 2.0671 - val_accuracy: 0.3123\n",
      "Epoch 4/50\n",
      "44/44 [==============================] - 57s 1s/step - loss: 2.1044 - accuracy: 0.2185 - val_loss: 1.9697 - val_accuracy: 0.2407\n",
      "Epoch 5/50\n",
      "44/44 [==============================] - 57s 1s/step - loss: 2.1476 - accuracy: 0.2070 - val_loss: 1.6623 - val_accuracy: 0.3438\n",
      "Epoch 6/50\n",
      "44/44 [==============================] - 58s 1s/step - loss: 1.8651 - accuracy: 0.2815 - val_loss: 1.5062 - val_accuracy: 0.3410\n",
      "Epoch 7/50\n",
      "44/44 [==============================] - 59s 1s/step - loss: 1.7170 - accuracy: 0.3087 - val_loss: 1.6232 - val_accuracy: 0.3009\n",
      "Epoch 8/50\n",
      "44/44 [==============================] - 59s 1s/step - loss: 1.6612 - accuracy: 0.4133 - val_loss: 1.5002 - val_accuracy: 0.3696\n",
      "Epoch 9/50\n",
      "44/44 [==============================] - 60s 1s/step - loss: 1.7557 - accuracy: 0.3274 - val_loss: 1.5639 - val_accuracy: 0.3811\n",
      "Epoch 10/50\n",
      "44/44 [==============================] - 57s 1s/step - loss: 1.7487 - accuracy: 0.2973 - val_loss: 1.4109 - val_accuracy: 0.3983\n",
      "Epoch 11/50\n",
      "44/44 [==============================] - 59s 1s/step - loss: 1.7005 - accuracy: 0.3732 - val_loss: 1.8185 - val_accuracy: 0.2894\n",
      "Epoch 12/50\n",
      "44/44 [==============================] - 60s 1s/step - loss: 1.8910 - accuracy: 0.3016 - val_loss: 1.5337 - val_accuracy: 0.3983\n",
      "Epoch 13/50\n",
      "44/44 [==============================] - 58s 1s/step - loss: 1.7698 - accuracy: 0.3352 - val_loss: 1.5835 - val_accuracy: 0.3639\n",
      "Epoch 14/50\n",
      "44/44 [==============================] - 57s 1s/step - loss: 1.7659 - accuracy: 0.3138 - val_loss: 2.0032 - val_accuracy: 0.2378\n",
      "Epoch 15/50\n",
      "44/44 [==============================] - 58s 1s/step - loss: 1.5746 - accuracy: 0.3990 - val_loss: 1.4681 - val_accuracy: 0.3668\n",
      "Epoch 16/50\n",
      "44/44 [==============================] - 57s 1s/step - loss: 1.6782 - accuracy: 0.3209 - val_loss: 1.3418 - val_accuracy: 0.4441\n",
      "Epoch 17/50\n",
      "44/44 [==============================] - 73s 2s/step - loss: 1.5828 - accuracy: 0.3610 - val_loss: 1.2470 - val_accuracy: 0.4613\n",
      "Epoch 18/50\n",
      "44/44 [==============================] - 72s 2s/step - loss: 1.6760 - accuracy: 0.4112 - val_loss: 1.6452 - val_accuracy: 0.3696\n",
      "Epoch 19/50\n",
      "44/44 [==============================] - 79s 2s/step - loss: 1.8615 - accuracy: 0.2787 - val_loss: 1.5352 - val_accuracy: 0.4155\n",
      "Epoch 20/50\n",
      "44/44 [==============================] - 65s 1s/step - loss: 1.7466 - accuracy: 0.3345 - val_loss: 1.3758 - val_accuracy: 0.4413\n",
      "Epoch 21/50\n",
      "44/44 [==============================] - 86s 2s/step - loss: 1.5679 - accuracy: 0.3295 - val_loss: 1.3478 - val_accuracy: 0.4470\n",
      "Epoch 22/50\n",
      "44/44 [==============================] - 73s 2s/step - loss: 1.7514 - accuracy: 0.3804 - val_loss: 1.3352 - val_accuracy: 0.4556\n",
      "Epoch 23/50\n",
      "44/44 [==============================] - 77s 2s/step - loss: 1.5356 - accuracy: 0.4026 - val_loss: 1.4081 - val_accuracy: 0.4327\n",
      "Epoch 24/50\n",
      "44/44 [==============================] - 72s 2s/step - loss: 1.4664 - accuracy: 0.4592 - val_loss: 1.2743 - val_accuracy: 0.4441\n",
      "Epoch 25/50\n",
      "44/44 [==============================] - 68s 2s/step - loss: 1.5375 - accuracy: 0.4269 - val_loss: 1.1285 - val_accuracy: 0.4957\n",
      "Epoch 26/50\n",
      "44/44 [==============================] - 66s 1s/step - loss: 1.3909 - accuracy: 0.4255 - val_loss: 1.2333 - val_accuracy: 0.4728\n",
      "Epoch 27/50\n",
      "44/44 [==============================] - 66s 2s/step - loss: 1.3223 - accuracy: 0.4620 - val_loss: 1.4268 - val_accuracy: 0.4928\n",
      "Epoch 28/50\n",
      "44/44 [==============================] - 61s 1s/step - loss: 1.3720 - accuracy: 0.3825 - val_loss: 1.1490 - val_accuracy: 0.5186\n",
      "Epoch 29/50\n",
      "44/44 [==============================] - 58s 1s/step - loss: 1.4245 - accuracy: 0.4298 - val_loss: 1.1070 - val_accuracy: 0.5616\n",
      "Epoch 30/50\n",
      "44/44 [==============================] - 63s 1s/step - loss: 1.3281 - accuracy: 0.4534 - val_loss: 1.0642 - val_accuracy: 0.5903\n",
      "Epoch 31/50\n",
      "44/44 [==============================] - 58s 1s/step - loss: 1.3570 - accuracy: 0.4362 - val_loss: 1.0976 - val_accuracy: 0.5014\n",
      "Epoch 32/50\n",
      "44/44 [==============================] - 59s 1s/step - loss: 1.2114 - accuracy: 0.5021 - val_loss: 1.0428 - val_accuracy: 0.6218\n",
      "Epoch 33/50\n",
      " 3/44 [=>............................] - ETA: 51s - loss: 1.2958 - accuracy: 0.5000    "
     ]
    }
   ],
   "source": [
    "# Training the CNN on the Training set and evaluating it on the Test set\n",
    "r=model.fit(x = training_set, validation_data = test_set, epochs = 50)"
   ]
  },
  {
   "cell_type": "code",
   "execution_count": 1,
   "id": "946d7d31",
   "metadata": {},
   "outputs": [
    {
     "ename": "NameError",
     "evalue": "name 'model' is not defined",
     "output_type": "error",
     "traceback": [
      "\u001b[1;31m---------------------------------------------------------------------------\u001b[0m",
      "\u001b[1;31mNameError\u001b[0m                                 Traceback (most recent call last)",
      "\u001b[1;32m~\\AppData\\Local\\Temp/ipykernel_17944/854290618.py\u001b[0m in \u001b[0;36m<module>\u001b[1;34m\u001b[0m\n\u001b[0;32m      1\u001b[0m \u001b[1;32mimport\u001b[0m \u001b[0mnumpy\u001b[0m \u001b[1;32mas\u001b[0m \u001b[0mnp\u001b[0m\u001b[1;33m\u001b[0m\u001b[1;33m\u001b[0m\u001b[0m\n\u001b[0;32m      2\u001b[0m \u001b[0mbatch_size\u001b[0m \u001b[1;33m=\u001b[0m \u001b[1;36m32\u001b[0m\u001b[1;33m\u001b[0m\u001b[1;33m\u001b[0m\u001b[0m\n\u001b[1;32m----> 3\u001b[1;33m \u001b[0mY_pred\u001b[0m \u001b[1;33m=\u001b[0m \u001b[0mmodel\u001b[0m\u001b[1;33m.\u001b[0m\u001b[0mpredict_generator\u001b[0m\u001b[1;33m(\u001b[0m\u001b[0mtest_set\u001b[0m\u001b[1;33m,\u001b[0m \u001b[0msteps\u001b[0m \u001b[1;33m=\u001b[0m \u001b[0mnp\u001b[0m\u001b[1;33m.\u001b[0m\u001b[0mceil\u001b[0m\u001b[1;33m(\u001b[0m\u001b[0mtest_set\u001b[0m\u001b[1;33m.\u001b[0m\u001b[0msamples\u001b[0m \u001b[1;33m/\u001b[0m \u001b[0mtest_set\u001b[0m\u001b[1;33m.\u001b[0m\u001b[0mbatch_size\u001b[0m\u001b[1;33m)\u001b[0m\u001b[1;33m,\u001b[0m \u001b[0mverbose\u001b[0m\u001b[1;33m=\u001b[0m\u001b[1;36m1\u001b[0m\u001b[1;33m,\u001b[0m \u001b[0mworkers\u001b[0m\u001b[1;33m=\u001b[0m\u001b[1;36m0\u001b[0m\u001b[1;33m)\u001b[0m\u001b[1;33m\u001b[0m\u001b[1;33m\u001b[0m\u001b[0m\n\u001b[0m\u001b[0;32m      4\u001b[0m \u001b[0my_pred\u001b[0m \u001b[1;33m=\u001b[0m \u001b[0mnp\u001b[0m\u001b[1;33m.\u001b[0m\u001b[0margmax\u001b[0m\u001b[1;33m(\u001b[0m\u001b[0mY_pred\u001b[0m\u001b[1;33m,\u001b[0m \u001b[0maxis\u001b[0m\u001b[1;33m=\u001b[0m\u001b[1;36m1\u001b[0m\u001b[1;33m)\u001b[0m\u001b[1;33m\u001b[0m\u001b[1;33m\u001b[0m\u001b[0m\n",
      "\u001b[1;31mNameError\u001b[0m: name 'model' is not defined"
     ]
    }
   ],
   "source": [
    "import numpy as np\n",
    "batch_size = 32\n",
    "Y_pred = model.predict_generator(test_set, steps = np.ceil(test_set.samples / test_set.batch_size), verbose=1, workers=0)\n",
    "y_pred = np.argmax(Y_pred, axis=1)"
   ]
  },
  {
   "cell_type": "code",
   "execution_count": null,
   "id": "73afe025",
   "metadata": {},
   "outputs": [],
   "source": [
    "from sklearn.metrics import confusion_matrix\n",
    "#confusion_matrix(y_true, y_test_pred)\n",
    "confusion_matrix(test_set.classes, y_pred)"
   ]
  },
  {
   "cell_type": "code",
   "execution_count": null,
   "id": "9819aee4",
   "metadata": {},
   "outputs": [],
   "source": [
    "Y_pred = model.predict_generator(test_set)\n",
    "y_pred = np.argmax(Y_pred, axis=1)\n",
    "print('Confusion Matrix')\n",
    "cm = confusion_matrix(test_set.classes, y_pred)"
   ]
  },
  {
   "cell_type": "code",
   "execution_count": null,
   "id": "7f84ee13",
   "metadata": {},
   "outputs": [],
   "source": [
    "cm"
   ]
  },
  {
   "cell_type": "code",
   "execution_count": null,
   "id": "4dd9be2a",
   "metadata": {},
   "outputs": [],
   "source": [
    "Y_pred1 = model.predict_generator(training_set)\n",
    "y_pred1 = np.argmax(Y_pred1, axis=1)\n",
    "print('Confusion Matrix')\n",
    "cm1 = confusion_matrix(training_set.classes, y_pred1)"
   ]
  },
  {
   "cell_type": "code",
   "execution_count": null,
   "id": "5f2f021e",
   "metadata": {},
   "outputs": [],
   "source": [
    "cm1"
   ]
  },
  {
   "cell_type": "code",
   "execution_count": null,
   "id": "72b5158a",
   "metadata": {},
   "outputs": [],
   "source": [
    "cmm = cm1 + cm\n",
    "cmm"
   ]
  },
  {
   "cell_type": "code",
   "execution_count": null,
   "id": "5a65a7d0",
   "metadata": {},
   "outputs": [],
   "source": [
    "model.save('my_model.h5')"
   ]
  },
  {
   "cell_type": "code",
   "execution_count": null,
   "id": "366c0a1e",
   "metadata": {},
   "outputs": [],
   "source": [
    "#loading the model as new model\n",
    "new_model = tf.keras.models.load_model('my_model.h5')\n",
    "new_model.summary()"
   ]
  },
  {
   "cell_type": "code",
   "execution_count": null,
   "id": "97896fe6",
   "metadata": {},
   "outputs": [],
   "source": [
    "f,ax=plt.subplots(2,1) #Creates 2 subplots under 1 column\n",
    "\n",
    "#Assigning the first subplot to graph training loss and validation loss\n",
    "ax[0].plot(new_model.history.history['loss'],color='b',label='Training Loss')\n",
    "ax[0].plot(new_model.history.history['val_loss'],color='r',label='Validation Loss')\n",
    "\n",
    "#Plotting the training accuracy and validation accuracy\n",
    "ax[1].plot(new_model.history.history['accuracy'],color='b',label='Training  Accuracy')\n",
    "ax[1].plot(new_model.history.history['val_accuracy'],color='r',label='Validation Accuracy')\n",
    "\n",
    "plt.legend()"
   ]
  }
 ],
 "metadata": {
  "kernelspec": {
   "display_name": "Python 3 (ipykernel)",
   "language": "python",
   "name": "python3"
  },
  "language_info": {
   "codemirror_mode": {
    "name": "ipython",
    "version": 3
   },
   "file_extension": ".py",
   "mimetype": "text/x-python",
   "name": "python",
   "nbconvert_exporter": "python",
   "pygments_lexer": "ipython3",
   "version": "3.9.5"
  }
 },
 "nbformat": 4,
 "nbformat_minor": 5
}
